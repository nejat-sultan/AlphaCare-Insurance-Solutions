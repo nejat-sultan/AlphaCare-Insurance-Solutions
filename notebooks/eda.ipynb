{
 "cells": [
  {
   "cell_type": "code",
   "execution_count": 12,
   "id": "69a94157-ade9-4158-ac13-a3fdde7e46ab",
   "metadata": {},
   "outputs": [
    {
     "name": "stderr",
     "output_type": "stream",
     "text": [
      "C:\\Users\\nejat\\AppData\\Local\\Temp\\ipykernel_14924\\2090248432.py:6: DtypeWarning: Columns (32,37) have mixed types. Specify dtype option on import or set low_memory=False.\n",
      "  df = pd.read_csv(filepath, delimiter='|')\n"
     ]
    },
    {
     "name": "stdout",
     "output_type": "stream",
     "text": [
      "   UnderwrittenCoverID  PolicyID     TransactionMonth  IsVATRegistered  \\\n",
      "0               145249     12827  2015-03-01 00:00:00             True   \n",
      "1               145249     12827  2015-05-01 00:00:00             True   \n",
      "2               145249     12827  2015-07-01 00:00:00             True   \n",
      "3               145255     12827  2015-05-01 00:00:00             True   \n",
      "4               145255     12827  2015-07-01 00:00:00             True   \n",
      "\n",
      "  Citizenship          LegalType Title Language                 Bank  \\\n",
      "0              Close Corporation    Mr  English  First National Bank   \n",
      "1              Close Corporation    Mr  English  First National Bank   \n",
      "2              Close Corporation    Mr  English  First National Bank   \n",
      "3              Close Corporation    Mr  English  First National Bank   \n",
      "4              Close Corporation    Mr  English  First National Bank   \n",
      "\n",
      "       AccountType  ...                    ExcessSelected CoverCategory  \\\n",
      "0  Current account  ...             Mobility - Windscreen    Windscreen   \n",
      "1  Current account  ...             Mobility - Windscreen    Windscreen   \n",
      "2  Current account  ...             Mobility - Windscreen    Windscreen   \n",
      "3  Current account  ...  Mobility - Metered Taxis - R2000    Own damage   \n",
      "4  Current account  ...  Mobility - Metered Taxis - R2000    Own damage   \n",
      "\n",
      "    CoverType            CoverGroup              Section  \\\n",
      "0  Windscreen  Comprehensive - Taxi  Motor Comprehensive   \n",
      "1  Windscreen  Comprehensive - Taxi  Motor Comprehensive   \n",
      "2  Windscreen  Comprehensive - Taxi  Motor Comprehensive   \n",
      "3  Own Damage  Comprehensive - Taxi  Motor Comprehensive   \n",
      "4  Own Damage  Comprehensive - Taxi  Motor Comprehensive   \n",
      "\n",
      "                           Product StatutoryClass StatutoryRiskType  \\\n",
      "0  Mobility Metered Taxis: Monthly     Commercial     IFRS Constant   \n",
      "1  Mobility Metered Taxis: Monthly     Commercial     IFRS Constant   \n",
      "2  Mobility Metered Taxis: Monthly     Commercial     IFRS Constant   \n",
      "3  Mobility Metered Taxis: Monthly     Commercial     IFRS Constant   \n",
      "4  Mobility Metered Taxis: Monthly     Commercial     IFRS Constant   \n",
      "\n",
      "   TotalPremium TotalClaims  \n",
      "0     21.929825         0.0  \n",
      "1     21.929825         0.0  \n",
      "2      0.000000         0.0  \n",
      "3    512.848070         0.0  \n",
      "4      0.000000         0.0  \n",
      "\n",
      "[5 rows x 52 columns]\n"
     ]
    }
   ],
   "source": [
    "import pandas as pd\n",
    "import matplotlib.pyplot as plt\n",
    "import seaborn as sns\n",
    "\n",
    "def load_data(filepath):\n",
    "    df = pd.read_csv(filepath, delimiter='|') \n",
    "    return df\n",
    "\n",
    "df = load_data('C:/Users/nejat/AIM Projects/week3 data/MachineLearningRating_v3.txt')\n",
    "print(df.head())\n"
   ]
  },
  {
   "cell_type": "code",
   "execution_count": 4,
   "id": "e7c44dc2-bbcb-4a18-8f72-b6044917a416",
   "metadata": {},
   "outputs": [
    {
     "name": "stdout",
     "output_type": "stream",
     "text": [
      "Index(['UnderwrittenCoverID|PolicyID|TransactionMonth|IsVATRegistered|Citizenship|LegalType|Title|Language|Bank|AccountType|MaritalStatus|Gender|Country|Province|PostalCode|MainCrestaZone|SubCrestaZone|ItemType|mmcode|VehicleType|RegistrationYear|make|Model|Cylinders|cubiccapacity|kilowatts|bodytype|NumberOfDoors|VehicleIntroDate|CustomValueEstimate|AlarmImmobiliser|TrackingDevice|CapitalOutstanding|NewVehicle|WrittenOff|Rebuilt|Converted|CrossBorder|NumberOfVehiclesInFleet|SumInsured|TermFrequency|CalculatedPremiumPerTerm|ExcessSelected|CoverCategory|CoverType|CoverGroup|Section|Product|StatutoryClass|StatutoryRiskType|TotalPremium|TotalClaims'], dtype='object')\n"
     ]
    }
   ],
   "source": [
    "print(df.columns)"
   ]
  },
  {
   "cell_type": "code",
   "execution_count": 10,
   "id": "97a3c596-4e04-4308-a71d-30f27ffd358f",
   "metadata": {},
   "outputs": [
    {
     "name": "stdout",
     "output_type": "stream",
     "text": [
      "\n",
      "Descriptive Statistics:\n",
      "       TotalPremium   TotalClaims\n",
      "count  1.000098e+06  1.000098e+06\n",
      "mean   6.190550e+01  6.486119e+01\n",
      "std    2.302845e+02  2.384075e+03\n",
      "min   -7.825768e+02 -1.200241e+04\n",
      "25%    0.000000e+00  0.000000e+00\n",
      "50%    2.178333e+00  0.000000e+00\n",
      "75%    2.192982e+01  0.000000e+00\n",
      "max    6.528260e+04  3.930921e+05\n",
      "\n",
      "Variability Measures:\n",
      "              Standard Deviation      Variance\n",
      "TotalPremium          230.284513  5.303096e+04\n",
      "TotalClaims          2384.074695  5.683812e+06\n",
      "\n",
      "Data Types:\n",
      "UnderwrittenCoverID           int64\n",
      "PolicyID                      int64\n",
      "TransactionMonth             object\n",
      "IsVATRegistered                bool\n",
      "Citizenship                  object\n",
      "LegalType                    object\n",
      "Title                        object\n",
      "Language                     object\n",
      "Bank                         object\n",
      "AccountType                  object\n",
      "MaritalStatus                object\n",
      "Gender                       object\n",
      "Country                      object\n",
      "Province                     object\n",
      "PostalCode                    int64\n",
      "MainCrestaZone               object\n",
      "SubCrestaZone                object\n",
      "ItemType                     object\n",
      "mmcode                      float64\n",
      "VehicleType                  object\n",
      "RegistrationYear              int64\n",
      "make                         object\n",
      "Model                        object\n",
      "Cylinders                   float64\n",
      "cubiccapacity               float64\n",
      "kilowatts                   float64\n",
      "bodytype                     object\n",
      "NumberOfDoors               float64\n",
      "VehicleIntroDate             object\n",
      "CustomValueEstimate         float64\n",
      "AlarmImmobiliser             object\n",
      "TrackingDevice               object\n",
      "CapitalOutstanding           object\n",
      "NewVehicle                   object\n",
      "WrittenOff                   object\n",
      "Rebuilt                      object\n",
      "Converted                    object\n",
      "CrossBorder                  object\n",
      "NumberOfVehiclesInFleet     float64\n",
      "SumInsured                  float64\n",
      "TermFrequency                object\n",
      "CalculatedPremiumPerTerm    float64\n",
      "ExcessSelected               object\n",
      "CoverCategory                object\n",
      "CoverType                    object\n",
      "CoverGroup                   object\n",
      "Section                      object\n",
      "Product                      object\n",
      "StatutoryClass               object\n",
      "StatutoryRiskType            object\n",
      "TotalPremium                float64\n",
      "TotalClaims                 float64\n",
      "dtype: object\n"
     ]
    }
   ],
   "source": [
    "def data_summarization(df):\n",
    "    summary = df[['TotalPremium', 'TotalClaims']].describe()\n",
    "\n",
    "    variability = pd.DataFrame({\n",
    "        'Standard Deviation': df[['TotalPremium', 'TotalClaims']].std(),\n",
    "        'Variance': df[['TotalPremium', 'TotalClaims']].var()\n",
    "    })\n",
    "\n",
    "    return summary, variability\n",
    "\n",
    "summary, variability = data_summarization(df)\n",
    "\n",
    "print(\"\\nDescriptive Statistics:\")\n",
    "print(summary)\n",
    "\n",
    "print(\"\\nVariability Measures:\")\n",
    "print(variability)\n",
    "\n",
    "print(\"\\nData Types:\")\n",
    "print(df.dtypes)"
   ]
  },
  {
   "cell_type": "code",
   "execution_count": 11,
   "id": "f0c2e21a-11da-4165-ba19-e0539ba8ccd6",
   "metadata": {},
   "outputs": [
    {
     "name": "stdout",
     "output_type": "stream",
     "text": [
      "\n",
      "Missing Values:\n",
      "UnderwrittenCoverID               0\n",
      "PolicyID                          0\n",
      "TransactionMonth                  0\n",
      "IsVATRegistered                   0\n",
      "Citizenship                       0\n",
      "LegalType                         0\n",
      "Title                             0\n",
      "Language                          0\n",
      "Bank                         145961\n",
      "AccountType                   40232\n",
      "MaritalStatus                  8259\n",
      "Gender                         9536\n",
      "Country                           0\n",
      "Province                          0\n",
      "PostalCode                        0\n",
      "MainCrestaZone                    0\n",
      "SubCrestaZone                     0\n",
      "ItemType                          0\n",
      "mmcode                          552\n",
      "VehicleType                     552\n",
      "RegistrationYear                  0\n",
      "make                            552\n",
      "Model                           552\n",
      "Cylinders                       552\n",
      "cubiccapacity                   552\n",
      "kilowatts                       552\n",
      "bodytype                        552\n",
      "NumberOfDoors                   552\n",
      "VehicleIntroDate                552\n",
      "CustomValueEstimate          779642\n",
      "AlarmImmobiliser                  0\n",
      "TrackingDevice                    0\n",
      "CapitalOutstanding                2\n",
      "NewVehicle                   153295\n",
      "WrittenOff                   641901\n",
      "Rebuilt                      641901\n",
      "Converted                    641901\n",
      "CrossBorder                  999400\n",
      "NumberOfVehiclesInFleet     1000098\n",
      "SumInsured                        0\n",
      "TermFrequency                     0\n",
      "CalculatedPremiumPerTerm          0\n",
      "ExcessSelected                    0\n",
      "CoverCategory                     0\n",
      "CoverType                         0\n",
      "CoverGroup                        0\n",
      "Section                           0\n",
      "Product                           0\n",
      "StatutoryClass                    0\n",
      "StatutoryRiskType                 0\n",
      "TotalPremium                      0\n",
      "TotalClaims                       0\n",
      "dtype: int64\n"
     ]
    }
   ],
   "source": [
    "print(\"\\nMissing Values:\")\n",
    "print(df.isnull().sum())"
   ]
  },
  {
   "cell_type": "code",
   "execution_count": null,
   "id": "048eb46f-618e-4be9-b88a-8e82c6d5f4c6",
   "metadata": {},
   "outputs": [
    {
     "name": "stderr",
     "output_type": "stream",
     "text": [
      "C:\\Users\\nejat\\anaconda3\\Lib\\site-packages\\seaborn\\_oldcore.py:1119: FutureWarning: use_inf_as_na option is deprecated and will be removed in a future version. Convert inf values to NaN before operating instead.\n",
      "  with pd.option_context('mode.use_inf_as_na', True):\n"
     ]
    },
    {
     "data": {
      "image/png": "[encoded data removed]",
      "text/plain": [
       "<Figure size 1000x600 with 1 Axes>"
      ]
     },
     "metadata": {},
     "output_type": "display_data"
    }
   ],
   "source": [
    "def univariate_analysis(df):\n",
    "    plt.figure(figsize=(10,6))\n",
    "    sns.histplot(df['TotalPremium'], bins=30, kde=True)\n",
    "    plt.title('Distribution of Total Premium')\n",
    "    plt.show()\n",
    "\n",
    "    plt.figure(figsize=(10,6))\n",
    "    sns.histplot(df['TotalClaims'], bins=30, kde=True)\n",
    "    plt.title('Distribution of Total Claims ')\n",
    "    plt.show()\n",
    "\n",
    "    plt.figure(figsize=(10,6))\n",
    "    sns.countplot(x='Gender', data=df)\n",
    "    plt.title('Gender Distribution')\n",
    "    plt.show()\n",
    "\n",
    "    plt.figure(figsize=(10,6))\n",
    "    sns.countplot(x='MaritalStatus', data=df)\n",
    "    plt.title('Marital Status Distribution')\n",
    "    plt.show()\n",
    "\n",
    "univariate_analysis(df)"
   ]
  },
  {
   "cell_type": "code",
   "execution_count": null,
   "id": "7c293821-df1f-4ced-9ed3-f12351b1e97b",
   "metadata": {},
   "outputs": [],
   "source": []
  }
 ],
 "metadata": {
  "kernelspec": {
   "display_name": "Python 3 (ipykernel)",
   "language": "python",
   "name": "python3"
  },
  "language_info": {
   "codemirror_mode": {
    "name": "ipython",
    "version": 3
   },
   "file_extension": ".py",
   "mimetype": "text/x-python",
   "name": "python",
   "nbconvert_exporter": "python",
   "pygments_lexer": "ipython3",
   "version": "3.11.7"
  }
 },
 "nbformat": 4,
 "nbformat_minor": 5
}
