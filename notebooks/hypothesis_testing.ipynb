{
 "cells": [
  {
   "cell_type": "code",
   "execution_count": 10,
   "id": "ac65ef91-9327-4dd2-89e5-db7a48fbf7fc",
   "metadata": {},
   "outputs": [
    {
     "name": "stderr",
     "output_type": "stream",
     "text": [
      "C:\\Users\\nejat\\AppData\\Local\\Temp\\ipykernel_19904\\1792215990.py:6: DtypeWarning: Columns (32,37) have mixed types. Specify dtype option on import or set low_memory=False.\n",
      "  df = pd.read_csv(filepath, delimiter='|')\n"
     ]
    },
    {
     "name": "stdout",
     "output_type": "stream",
     "text": [
      "   UnderwrittenCoverID  PolicyID     TransactionMonth  IsVATRegistered  \\\n",
      "0               145249     12827  2015-03-01 00:00:00             True   \n",
      "1               145249     12827  2015-05-01 00:00:00             True   \n",
      "2               145249     12827  2015-07-01 00:00:00             True   \n",
      "3               145255     12827  2015-05-01 00:00:00             True   \n",
      "4               145255     12827  2015-07-01 00:00:00             True   \n",
      "\n",
      "  Citizenship          LegalType Title Language                 Bank  \\\n",
      "0              Close Corporation    Mr  English  First National Bank   \n",
      "1              Close Corporation    Mr  English  First National Bank   \n",
      "2              Close Corporation    Mr  English  First National Bank   \n",
      "3              Close Corporation    Mr  English  First National Bank   \n",
      "4              Close Corporation    Mr  English  First National Bank   \n",
      "\n",
      "       AccountType  ...                    ExcessSelected CoverCategory  \\\n",
      "0  Current account  ...             Mobility - Windscreen    Windscreen   \n",
      "1  Current account  ...             Mobility - Windscreen    Windscreen   \n",
      "2  Current account  ...             Mobility - Windscreen    Windscreen   \n",
      "3  Current account  ...  Mobility - Metered Taxis - R2000    Own damage   \n",
      "4  Current account  ...  Mobility - Metered Taxis - R2000    Own damage   \n",
      "\n",
      "    CoverType            CoverGroup              Section  \\\n",
      "0  Windscreen  Comprehensive - Taxi  Motor Comprehensive   \n",
      "1  Windscreen  Comprehensive - Taxi  Motor Comprehensive   \n",
      "2  Windscreen  Comprehensive - Taxi  Motor Comprehensive   \n",
      "3  Own Damage  Comprehensive - Taxi  Motor Comprehensive   \n",
      "4  Own Damage  Comprehensive - Taxi  Motor Comprehensive   \n",
      "\n",
      "                           Product StatutoryClass StatutoryRiskType  \\\n",
      "0  Mobility Metered Taxis: Monthly     Commercial     IFRS Constant   \n",
      "1  Mobility Metered Taxis: Monthly     Commercial     IFRS Constant   \n",
      "2  Mobility Metered Taxis: Monthly     Commercial     IFRS Constant   \n",
      "3  Mobility Metered Taxis: Monthly     Commercial     IFRS Constant   \n",
      "4  Mobility Metered Taxis: Monthly     Commercial     IFRS Constant   \n",
      "\n",
      "   TotalPremium TotalClaims  \n",
      "0     21.929825         0.0  \n",
      "1     21.929825         0.0  \n",
      "2      0.000000         0.0  \n",
      "3    512.848070         0.0  \n",
      "4      0.000000         0.0  \n",
      "\n",
      "[5 rows x 52 columns]\n"
     ]
    }
   ],
   "source": [
    "import pandas as pd\n",
    "from scipy import stats\n",
    "from scipy.stats import chi2_contingency\n",
    "\n",
    "def load_data(filepath):\n",
    "    df = pd.read_csv(filepath, delimiter='|') \n",
    "    return df\n",
    "\n",
    "df = load_data('C:/Users/nejat/AIM Projects/week3 data/MachineLearningRating_v3.txt')\n",
    "print(df.head())"
   ]
  },
  {
   "cell_type": "code",
   "execution_count": 6,
   "id": "49cf7215-0856-4397-ade6-5bbfa243339b",
   "metadata": {},
   "outputs": [
    {
     "name": "stdout",
     "output_type": "stream",
     "text": [
      "   UnderwrittenCoverID  PolicyID     TransactionMonth  IsVATRegistered  \\\n",
      "0               145249     12827  2015-03-01 00:00:00             True   \n",
      "1               145249     12827  2015-05-01 00:00:00             True   \n",
      "2               145249     12827  2015-07-01 00:00:00             True   \n",
      "3               145255     12827  2015-05-01 00:00:00             True   \n",
      "4               145255     12827  2015-07-01 00:00:00             True   \n",
      "\n",
      "  Citizenship          LegalType Title Language                 Bank  \\\n",
      "0              Close Corporation    Mr  English  First National Bank   \n",
      "1              Close Corporation    Mr  English  First National Bank   \n",
      "2              Close Corporation    Mr  English  First National Bank   \n",
      "3              Close Corporation    Mr  English  First National Bank   \n",
      "4              Close Corporation    Mr  English  First National Bank   \n",
      "\n",
      "       AccountType  ...                    ExcessSelected CoverCategory  \\\n",
      "0  Current account  ...             Mobility - Windscreen    Windscreen   \n",
      "1  Current account  ...             Mobility - Windscreen    Windscreen   \n",
      "2  Current account  ...             Mobility - Windscreen    Windscreen   \n",
      "3  Current account  ...  Mobility - Metered Taxis - R2000    Own damage   \n",
      "4  Current account  ...  Mobility - Metered Taxis - R2000    Own damage   \n",
      "\n",
      "    CoverType            CoverGroup              Section  \\\n",
      "0  Windscreen  Comprehensive - Taxi  Motor Comprehensive   \n",
      "1  Windscreen  Comprehensive - Taxi  Motor Comprehensive   \n",
      "2  Windscreen  Comprehensive - Taxi  Motor Comprehensive   \n",
      "3  Own Damage  Comprehensive - Taxi  Motor Comprehensive   \n",
      "4  Own Damage  Comprehensive - Taxi  Motor Comprehensive   \n",
      "\n",
      "                           Product StatutoryClass StatutoryRiskType  \\\n",
      "0  Mobility Metered Taxis: Monthly     Commercial     IFRS Constant   \n",
      "1  Mobility Metered Taxis: Monthly     Commercial     IFRS Constant   \n",
      "2  Mobility Metered Taxis: Monthly     Commercial     IFRS Constant   \n",
      "3  Mobility Metered Taxis: Monthly     Commercial     IFRS Constant   \n",
      "4  Mobility Metered Taxis: Monthly     Commercial     IFRS Constant   \n",
      "\n",
      "   TotalPremium TotalClaims  \n",
      "0     21.929825         0.0  \n",
      "1     21.929825         0.0  \n",
      "2      0.000000         0.0  \n",
      "3    512.848070         0.0  \n",
      "4      0.000000         0.0  \n",
      "\n",
      "[5 rows x 52 columns]\n",
      "      UnderwrittenCoverID  PolicyID     TransactionMonth  IsVATRegistered  \\\n",
      "1281               149146     13012  2015-04-01 00:00:00            False   \n",
      "1282               149146     13012  2015-06-01 00:00:00            False   \n",
      "1283               149146     13012  2015-08-01 00:00:00            False   \n",
      "1284               149140     13012  2015-03-01 00:00:00            False   \n",
      "1285               149140     13012  2015-05-01 00:00:00            False   \n",
      "\n",
      "     Citizenship   LegalType Title Language Bank AccountType  ...  \\\n",
      "1281              Individual  Miss  English  NaN         NaN  ...   \n",
      "1282              Individual  Miss  English  NaN         NaN  ...   \n",
      "1283              Individual  Miss  English  NaN         NaN  ...   \n",
      "1284              Individual  Miss  English  NaN         NaN  ...   \n",
      "1285              Individual  Miss  English  NaN         NaN  ...   \n",
      "\n",
      "     ExcessSelected      CoverCategory          CoverType  \\\n",
      "1281      No excess   Income Protector   Income Protector   \n",
      "1282      No excess   Income Protector   Income Protector   \n",
      "1283      No excess   Income Protector   Income Protector   \n",
      "1284      No excess  Emergency Charges  Emergency Charges   \n",
      "1285      No excess  Emergency Charges  Emergency Charges   \n",
      "\n",
      "                CoverGroup                   Section  \\\n",
      "1281      Income Protector  Optional Extended Covers   \n",
      "1282      Income Protector  Optional Extended Covers   \n",
      "1283      Income Protector  Optional Extended Covers   \n",
      "1284  Comprehensive - Taxi       Motor Comprehensive   \n",
      "1285  Comprehensive - Taxi       Motor Comprehensive   \n",
      "\n",
      "                                 Product StatutoryClass StatutoryRiskType  \\\n",
      "1281  Mobility Commercial Cover: Monthly     Commercial     IFRS Constant   \n",
      "1282  Mobility Commercial Cover: Monthly     Commercial     IFRS Constant   \n",
      "1283  Mobility Commercial Cover: Monthly     Commercial     IFRS Constant   \n",
      "1284  Mobility Commercial Cover: Monthly     Commercial     IFRS Constant   \n",
      "1285  Mobility Commercial Cover: Monthly     Commercial     IFRS Constant   \n",
      "\n",
      "      TotalPremium TotalClaims  \n",
      "1281     74.561404         0.0  \n",
      "1282     74.561404         0.0  \n",
      "1283     74.561404         0.0  \n",
      "1284      7.312105         0.0  \n",
      "1285      7.312105         0.0  \n",
      "\n",
      "[5 rows x 52 columns]\n"
     ]
    }
   ],
   "source": [
    "def segmentation(df):\n",
    "    group_a = df[df['Province'] == 'Gauteng']\n",
    "    group_b = df[df['Province'] == 'Western Cape']\n",
    "    \n",
    "    return group_a, group_b\n",
    "\n",
    "group_a, group_b = segmentation(df)\n",
    "\n",
    "print(group_a.head())\n",
    "print(group_b.head())\n"
   ]
  },
  {
   "cell_type": "code",
   "execution_count": 8,
   "id": "5f21fa6b-a716-4508-b1e8-927a3635037c",
   "metadata": {},
   "outputs": [
    {
     "name": "stdout",
     "output_type": "stream",
     "text": [
      "T-statistic: 1.908551760101624\n",
      "P-value: 0.05632044649871883\n",
      "Fail to reject the null hypothesis: No significant risk differences across provinces.\n"
     ]
    }
   ],
   "source": [
    "def perform_ttest(group_a, group_b, column):\n",
    "    t_stat, p_value = stats.ttest_ind(group_a[column], group_b[column])\n",
    "    \n",
    "    print(f'T-statistic: {t_stat}')\n",
    "    print(f'P-value: {p_value}')\n",
    "    \n",
    "    if p_value < 0.05:\n",
    "        print(\"Reject the null hypothesis: There are significant risk differences across provinces.\")\n",
    "    else:\n",
    "        print(\"Fail to reject the null hypothesis: No significant risk differences across provinces.\")\n",
    "\n",
    "perform_ttest(group_a, group_b, 'TotalClaims')"
   ]
  },
  {
   "cell_type": "code",
   "execution_count": 12,
   "id": "c4b6a8f0-2db0-4069-9284-fa23e1d7c942",
   "metadata": {},
   "outputs": [
    {
     "name": "stdout",
     "output_type": "stream",
     "text": [
      "Chi-squared: 1214174.406374286\n",
      "P-value: 1.0\n",
      "Fail to reject the null hypothesis: No significant differences between PostalCode and TotalClaims.\n"
     ]
    }
   ],
   "source": [
    "def perform_chi_squared_test(df, row_column, col_column):\n",
    "    contingency_table = pd.crosstab(df[row_column], df[col_column])\n",
    "    chi2, p_value, dof, ex = chi2_contingency(contingency_table)\n",
    "    \n",
    "    print(f'Chi-squared: {chi2}')\n",
    "    print(f'P-value: {p_value}')\n",
    "    \n",
    "    if p_value < 0.05:\n",
    "        print(f\"Reject the null hypothesis: There are significant differences between {row_column} and {col_column}.\")\n",
    "    else:\n",
    "        print(f\"Fail to reject the null hypothesis: No significant differences between {row_column} and {col_column}.\")\n",
    "\n",
    "perform_chi_squared_test(df, 'PostalCode', 'TotalClaims')"
   ]
  },
  {
   "cell_type": "code",
   "execution_count": null,
   "id": "b7a56d01-e676-4bb7-9822-be419ed7ea27",
   "metadata": {},
   "outputs": [],
   "source": []
  }
 ],
 "metadata": {
  "kernelspec": {
   "display_name": "Python 3 (ipykernel)",
   "language": "python",
   "name": "python3"
  },
  "language_info": {
   "codemirror_mode": {
    "name": "ipython",
    "version": 3
   },
   "file_extension": ".py",
   "mimetype": "text/x-python",
   "name": "python",
   "nbconvert_exporter": "python",
   "pygments_lexer": "ipython3",
   "version": "3.11.7"
  }
 },
 "nbformat": 4,
 "nbformat_minor": 5
}
