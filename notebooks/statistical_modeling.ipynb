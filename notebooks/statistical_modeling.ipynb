{
 "cells": [
  {
   "cell_type": "code",
   "execution_count": 2,
   "id": "745b0a1f-4b09-4777-b9b0-f94dd744ee33",
   "metadata": {},
   "outputs": [
    {
     "name": "stderr",
     "output_type": "stream",
     "text": [
      "C:\\Users\\nejat\\AppData\\Local\\Temp\\ipykernel_8556\\3036335666.py:7: DtypeWarning: Columns (32,37) have mixed types. Specify dtype option on import or set low_memory=False.\n",
      "  df = pd.read_csv(filepath, delimiter='|')\n"
     ]
    },
    {
     "name": "stdout",
     "output_type": "stream",
     "text": [
      "   UnderwrittenCoverID  PolicyID     TransactionMonth  IsVATRegistered  \\\n",
      "0               145249     12827  2015-03-01 00:00:00             True   \n",
      "1               145249     12827  2015-05-01 00:00:00             True   \n",
      "2               145249     12827  2015-07-01 00:00:00             True   \n",
      "3               145255     12827  2015-05-01 00:00:00             True   \n",
      "4               145255     12827  2015-07-01 00:00:00             True   \n",
      "\n",
      "  Citizenship          LegalType Title Language                 Bank  \\\n",
      "0              Close Corporation    Mr  English  First National Bank   \n",
      "1              Close Corporation    Mr  English  First National Bank   \n",
      "2              Close Corporation    Mr  English  First National Bank   \n",
      "3              Close Corporation    Mr  English  First National Bank   \n",
      "4              Close Corporation    Mr  English  First National Bank   \n",
      "\n",
      "       AccountType  ...                    ExcessSelected CoverCategory  \\\n",
      "0  Current account  ...             Mobility - Windscreen    Windscreen   \n",
      "1  Current account  ...             Mobility - Windscreen    Windscreen   \n",
      "2  Current account  ...             Mobility - Windscreen    Windscreen   \n",
      "3  Current account  ...  Mobility - Metered Taxis - R2000    Own damage   \n",
      "4  Current account  ...  Mobility - Metered Taxis - R2000    Own damage   \n",
      "\n",
      "    CoverType            CoverGroup              Section  \\\n",
      "0  Windscreen  Comprehensive - Taxi  Motor Comprehensive   \n",
      "1  Windscreen  Comprehensive - Taxi  Motor Comprehensive   \n",
      "2  Windscreen  Comprehensive - Taxi  Motor Comprehensive   \n",
      "3  Own Damage  Comprehensive - Taxi  Motor Comprehensive   \n",
      "4  Own Damage  Comprehensive - Taxi  Motor Comprehensive   \n",
      "\n",
      "                           Product StatutoryClass StatutoryRiskType  \\\n",
      "0  Mobility Metered Taxis: Monthly     Commercial     IFRS Constant   \n",
      "1  Mobility Metered Taxis: Monthly     Commercial     IFRS Constant   \n",
      "2  Mobility Metered Taxis: Monthly     Commercial     IFRS Constant   \n",
      "3  Mobility Metered Taxis: Monthly     Commercial     IFRS Constant   \n",
      "4  Mobility Metered Taxis: Monthly     Commercial     IFRS Constant   \n",
      "\n",
      "   TotalPremium TotalClaims  \n",
      "0     21.929825         0.0  \n",
      "1     21.929825         0.0  \n",
      "2      0.000000         0.0  \n",
      "3    512.848070         0.0  \n",
      "4      0.000000         0.0  \n",
      "\n",
      "[5 rows x 52 columns]\n"
     ]
    }
   ],
   "source": [
    "import pandas as pd\n",
    "from scipy import stats\n",
    "from sklearn.model_selection import train_test_split\n",
    "from sklearn.preprocessing import OneHotEncoder\n",
    "\n",
    "def load_data(filepath):\n",
    "    df = pd.read_csv(filepath, delimiter='|') \n",
    "    return df\n",
    "\n",
    "df = load_data('C:/Users/nejat/AIM Projects/week3 data/MachineLearningRating_v3.txt')\n",
    "print(df.head())"
   ]
  },
  {
   "cell_type": "code",
   "execution_count": null,
   "id": "d865da9a-7ead-4ad3-9108-6c7a386a6c46",
   "metadata": {},
   "outputs": [],
   "source": [
    "def handle_missing_data(df, strategy='mean'):\n",
    "    if strategy == 'mean':\n",
    "        mean_values = df.mean()\n",
    "        df.fillna(mean_values, inplace=True)\n",
    "    elif strategy == 'median':\n",
    "        median_values = df.median()\n",
    "        df.fillna(median_values, inplace=True)\n",
    "    else:\n",
    "        df.dropna(inplace=True)\n",
    "    return df\n",
    "\n",
    "def encode_categorical_data(df, categorical_columns):\n",
    "    for col in categorical_columns:\n",
    "        df[col] = df[col].astype('category')\n",
    "    df = pd.get_dummies(df, columns=categorical_columns)\n",
    "    return df\n",
    "\n",
    "def train_test_splitting(df, target_column, test_size=0.2):\n",
    "    X = df.drop(columns=[target_column])\n",
    "    y = df[target_column]\n",
    "    X_train, X_test, y_train, y_test = train_test_split(X, y, test_size=test_size, random_state=42)\n",
    "    return X_train, X_test, y_train, y_test\n",
    "\n",
    "\n",
    "df = handle_missing_data(df)\n",
    "print(\"Data after handling missing values:\")\n",
    "print(df.head())  \n",
    "\n",
    "df = encode_categorical_data(df, categorical_columns=['Category1', 'Category2'])\n",
    "print(\"\\nData after encoding categorical variables:\")\n",
    "print(df.head())  \n",
    "\n",
    "X_train, X_test, y_train, y_test = train_test_splitting(df, target_column='Target')\n",
    "print(\"\\nTraining features (X_train):\")\n",
    "print(X_train.head())\n",
    "\n",
    "print(\"\\nTraining labels (y_train):\")\n",
    "print(y_train.head()) \n",
    "\n",
    "print(\"\\nTest features (X_test):\")\n",
    "print(X_test.head()) \n",
    "\n",
    "print(\"\\nTest labels (y_test):\")\n",
    "print(y_test.head()) \n"
   ]
  },
  {
   "cell_type": "code",
   "execution_count": null,
   "id": "2a5a2ab4-eb7a-43f6-bb9e-69f1de4ec7e0",
   "metadata": {},
   "outputs": [],
   "source": []
  }
 ],
 "metadata": {
  "kernelspec": {
   "display_name": "Python 3 (ipykernel)",
   "language": "python",
   "name": "python3"
  },
  "language_info": {
   "codemirror_mode": {
    "name": "ipython",
    "version": 3
   },
   "file_extension": ".py",
   "mimetype": "text/x-python",
   "name": "python",
   "nbconvert_exporter": "python",
   "pygments_lexer": "ipython3",
   "version": "3.11.7"
  }
 },
 "nbformat": 4,
 "nbformat_minor": 5
}
